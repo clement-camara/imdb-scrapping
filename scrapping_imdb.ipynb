{
 "metadata": {
  "language_info": {
   "codemirror_mode": {
    "name": "ipython",
    "version": 3
   },
   "file_extension": ".py",
   "mimetype": "text/x-python",
   "name": "python",
   "nbconvert_exporter": "python",
   "pygments_lexer": "ipython3",
   "version": "3.7.10"
  },
  "orig_nbformat": 2,
  "kernelspec": {
   "name": "python3",
   "display_name": "Python 3",
   "language": "python"
  }
 },
 "nbformat": 4,
 "nbformat_minor": 2,
 "cells": [
  {
   "cell_type": "code",
   "execution_count": 1,
   "metadata": {},
   "outputs": [
    {
     "output_type": "stream",
     "name": "stdout",
     "text": [
      "{'title': ['Les Évadés', 'Le parrain', 'The Dark Knight : Le Chevalier noir', 'Le parrain, 2ème partie', '12 Hommes en colère', 'Le Seigneur des anneaux : Le Retour du roi', 'Pulp Fiction', 'La liste de Schindler', 'Inception', 'Fight Club', \"Le Seigneur des anneaux : La Communauté de l'anneau\", 'Forrest Gump', 'Le Bon, la brute, le truand', 'Le Seigneur des anneaux : Les Deux Tours', 'Matrix', 'Les affranchis', \"L'Empire contre-attaque\", \"Vol au-dessus d'un nid de coucou\", 'Parasite', 'Interstellar', 'La Cité de Dieu', 'Le voyage de Chihiro', 'Il faut sauver le soldat Ryan', 'La ligne verte', 'La vie est belle', 'Seven', 'Le Silence des agneaux', 'La guerre des étoiles', 'Harakiri', 'Les 7 Samouraïs', 'La vie est belle', 'Hamilton', 'Whiplash', 'Intouchables', 'Le Prestige', 'Les infiltrés', 'Le pianiste', 'Gladiator', 'American History X', 'Usual Suspects', 'Léon', 'The Lion King', 'Terminator 2 : Le Jugement dernier', 'Cinéma Paradiso', 'Le tombeau des lucioles', 'Retour vers le futur', \"Il était une fois dans l'Ouest\", 'Psychose', 'Casablanca', 'Les temps modernes', 'Les lumières de la ville', 'Capharnaüm', 'Joker', 'Your Name.', 'Dangal', 'Spider-Man: New Generation', 'Avengers: Endgame', 'Avengers: Infinity War', 'Coco', 'Django Unchained', 'The Dark Knight Rises', '3 Idiots', 'Taare Zameen Par', 'WALL·E', 'La Vie des autres', 'Old Boy', 'Memento', 'Princesse Mononoké', 'Il était une fois en Amérique', \"Les Aventuriers de l'arche perdue\", 'Shining', 'Apocalypse Now', 'Alien - Le 8ème passager', \"Entre le ciel et l'enfer\", \"Dr. Folamour ou : Comment j'ai appris à ne plus m'en faire et à aimer la bombe !\", 'Témoin à charge', 'Les sentiers de la gloire', 'Fenêtre sur cour', 'Boulevard du Crépuscule', 'Le Dictateur', '1917', 'La chasse', 'Une séparation', 'Incendies', 'The Father', 'Mon père et mon fils', 'Inglourious Basterds', 'Eternal Sunshine of the Spotless Mind', \"Le Fabuleux Destin d'Amélie Poulain\", 'Snatch - Tu braques ou tu raques', 'Requiem for a Dream', 'American Beauty', 'Will Hunting', 'Les enfants du ciel', 'Toy Story', 'Braveheart', 'Reservoir Dogs', 'Full Metal Jacket', 'Requiem pour un massacre - Va et regarde', 'Aliens : Le Retour', 'Amadeus', 'Scarface', 'Le Retour du Jedi', 'Le Bateau', \"L'Arnaque\", 'Orange mécanique', 'Anand', \"2001 : L'Odyssée de l'espace\", \"Lawrence d'Arabie\", 'La garçonnière', 'La mort aux trousses', 'Sueurs froides', 'Chantons sous la pluie', 'Vivre', 'Voleur de bicyclette', 'Assurance sur la mort', 'Citizen Kane', 'M le maudit', 'Metropolis', 'Le Kid', 'Andhadhun', 'Green Book: Sur les routes du Sud', 'La légende de Klaus', 'Drishyam', 'Mandarines', 'Gangs of Wasseypur', 'Dans ses yeux', 'Warrior', 'Shutter Island', 'Là-haut', '7. Kogustaki Mucize', 'Le loup de Wall Street', 'There Will Be Blood', 'Le labyrinthe de Pan', 'Toy Story 3', 'V pour vendetta', 'Rang De Basanti', 'Batman Begins', 'La chute', 'Le château ambulant', \"Un homme d'exception\", 'Arnaques, crimes et botanique', 'L.A. Confidential', 'Eskiya le bandit', 'Heat', 'Casino', 'Impitoyable', 'Indiana Jones et la dernière croisade', 'Le temps des gitans', 'Mon voisin Totoro', 'Piège de cristal', 'Ran', 'Raging Bull', 'Stalker', \"Sonate d'automne\", 'Taxi Driver', 'Monty Python : Sacré Graal !', '...et pour quelques dollars de plus', 'La Grande Évasion', 'Du silence et des ombres...', 'Le garde du corps', 'Jugement à Nuremberg', \"Certains l'aiment chaud\", 'Les fraises sauvages', 'Le septième sceau', 'Le crime était presque parfait', 'Voyage à Tokyo', 'Rashomon', 'Ève...', 'Le Trésor de la Sierra Madre', 'Jeux dangereux', \"La ruée vers l'or\", 'Sherlock Junior', 'Portrait de la jeune fille en feu', 'Silent Voice', '3 Billboards: Les panneaux de la vengeance', 'Mademoiselle', 'Logan', 'Room', 'Les Nouveaux Sauvages', 'Soul', 'The Grand Budapest hotel', 'Gone Girl', 'Tu ne tueras point', 'Vice-versa', '12 Years a Slave', 'Rush', \"Le Mans '66\", 'Spotlight', 'Prisoners', 'Mad Max: Fury Road', 'Gran Torino', 'Harry Potter et les Reliques de la Mort 2ème partie', 'Hatchi', 'Mary et Max.', 'Dragons', 'Into the Wild', 'No Country for Old Men', 'Million Dollar Baby', 'Hôtel Rwanda', 'Before Sunset', 'Memories of Murder', 'Kill Bill: Volume I', 'Le Monde de Nemo', 'Arrête-moi si tu peux', 'Amours chiennes', 'Monstres & Cie', 'Neon Genesis Evangelion: The End of Evangelion', 'Sixième sens', 'The Truman Show', 'The Big Lebowski', 'In the Mood for Love', 'Trainspotting', 'Fargo', 'La Haine', 'Before Sunrise', 'Trois couleurs: Rouge', 'Jurassic Park', 'Au nom du père', 'Le Cercle des poètes disparus', 'Stand by me - Compte sur moi', 'Platoon', 'Paris, Texas', 'Nausicaä de la vallée du vent', 'The Thing', 'Blade Runner', 'Elephant Man', 'Monty Python : La Vie de Brian', \"Voyage au bout de l'enfer\", 'Rocky', 'Network - Main basse sur la TV', 'Barry Lyndon', 'Chinatown', 'Luke la main froide', 'Persona', 'Andreï Roublev', \"La bataille d'Alger\", 'Les quatre cents coups', 'Ben-Hur', 'Le pont de la rivière Kwaï', 'Du rififi chez les hommes', 'Sur les quais...', 'Le salaire de la peur', 'Le troisième homme', 'Rebecca', 'Mr. Smith au sénat', 'Autant en emporte le vent', 'New York - Miami', \"La passion de Jeanne d'Arc\", 'Le mécano de la Générale'], 'date': ['1994', '1972', '2008', '1974', '1957', '2003', '1994', '1993', '2010', '1999', '2001', '1994', '1966', '2002', '1999', '1990', '1980', '1975', '2019', '2014', '2002', '2001', '1998', '1999', '1997', '1995', '1991', '1977', '1962', '1954', '1946', '2020', '2014', '2011', '2006', '2006', '2002', '2000', '1998', '1995', '1994', '1994', '1991', '1988', '1988', '1985', '1968', '1960', '1942', '1936', '1931', '2018', '2019', '2016', '2016', '2018', '2019', '2018', 'I) (2017', '2012', '2012', '2009', '2007', '2008', '2006', '2003', '2000', '1997', '1984', '1981', '1980', '1979', '1979', '1963', '1964', '1957', '1957', '1954', '1950', '1940', '2019', '2012', '2011', '2010', 'I) (2020', '2005', '2009', '2004', '2001', '2000', '2000', '1999', '1997', '1997', '1995', '1995', '1992', '1987', '1985', '1986', '1984', '1983', '1983', '1981', '1973', '1971', '1971', '1968', '1962', '1960', '1959', '1958', '1952', '1952', '1948', '1944', '1941', '1931', '1927', '1921', '2018', '2018', '2019', '2015', '2013', '2012', '2009', '2011', '2010', '2009', '2019', '2013', '2007', '2006', '2010', '2005', '2006', '2005', '2004', '2004', '2001', '1998', '1997', '1996', '1995', '1995', '1992', '1989', '1988', '1988', '1988', '1985', '1980', '1979', '1978', '1976', '1975', '1965', '1963', '1962', '1961', '1961', '1959', '1957', '1957', '1954', '1953', '1950', '1950', '1948', '1942', '1925', '1924', '2019', '2016', '2017', '2016', '2017', 'I) (2015', '2014', '2020', '2014', '2014', '2016', 'I) (2015', '2013', 'I) (2013', '2019', 'I) (2015', '2013', '2015', '2008', '2011', '2009', '2009', '2010', '2007', '2007', '2004', '2004', '2004', '2003', '2003', '2003', '2002', '2000', '2001', '1997', '1999', '1998', '1998', '2000', '1996', '1996', '1995', '1995', '1994', '1993', '1993', '1989', '1986', '1986', '1984', '1984', '1982', '1982', '1980', '1979', '1978', '1976', '1976', '1975', '1974', '1967', '1966', '1966', '1966', '1959', '1959', '1957', '1955', '1954', '1953', '1949', '1940', '1939', '1939', '1934', '1928', '1926'], 'note': ['9.3', '9.2', '9.0', '9.0', '9.0', '8.9', '8.9', '8.9', '8.8', '8.8', '8.8', '8.8', '8.8', '8.7', '8.7', '8.7', '8.7', '8.7', '8.6', '8.6', '8.6', '8.6', '8.6', '8.6', '8.6', '8.6', '8.6', '8.6', '8.6', '8.6', '8.6', '8.5', '8.5', '8.5', '8.5', '8.5', '8.5', '8.5', '8.5', '8.5', '8.5', '8.5', '8.5', '8.5', '8.5', '8.5', '8.5', '8.5', '8.5', '8.5', '8.5', '8.4', '8.4', '8.4', '8.4', '8.4', '8.4', '8.4', '8.4', '8.4', '8.4', '8.4', '8.4', '8.4', '8.4', '8.4', '8.4', '8.4', '8.4', '8.4', '8.4', '8.4', '8.4', '8.4', '8.4', '8.4', '8.4', '8.4', '8.4', '8.4', '8.3', '8.3', '8.3', '8.3', '8.3', '8.3', '8.3', '8.3', '8.3', '8.3', '8.3', '8.3', '8.3', '8.3', '8.3', '8.3', '8.3', '8.3', '8.3', '8.3', '8.3', '8.3', '8.3', '8.3', '8.3', '8.3', '8.3', '8.3', '8.3', '8.3', '8.3', '8.3', '8.3', '8.3', '8.3', '8.3', '8.3', '8.3', '8.3', '8.3', '8.2', '8.2', '8.2', '8.2', '8.2', '8.2', '8.2', '8.2', '8.2', '8.2', '8.2', '8.2', '8.2', '8.2', '8.2', '8.2', '8.2', '8.2', '8.2', '8.2', '8.2', '8.2', '8.2', '8.2', '8.2', '8.2', '8.2', '8.2', '8.2', '8.2', '8.2', '8.2', '8.2', '8.2', '8.2', '8.2', '8.2', '8.2', '8.2', '8.2', '8.2', '8.2', '8.2', '8.2', '8.2', '8.2', '8.2', '8.2', '8.2', '8.2', '8.2', '8.2', '8.2', '8.1', '8.1', '8.1', '8.1', '8.1', '8.1', '8.1', '8.1', '8.1', '8.1', '8.1', '8.1', '8.1', '8.1', '8.1', '8.1', '8.1', '8.1', '8.1', '8.1', '8.1', '8.1', '8.1', '8.1', '8.1', '8.1', '8.1', '8.1', '8.1', '8.1', '8.1', '8.1', '8.1', '8.1', '8.1', '8.1', '8.1', '8.1', '8.1', '8.1', '8.1', '8.1', '8.1', '8.1', '8.1', '8.1', '8.1', '8.1', '8.1', '8.1', '8.1', '8.1', '8.1', '8.1', '8.1', '8.1', '8.1', '8.1', '8.1', '8.1', '8.1', '8.1', '8.1', '8.1', '8.1', '8.1', '8.1', '8.1', '8.1', '8.1', '8.1', '8.1', '8.1', '8.1', '8.1', '8.1', '8.1'], 'director': ['Frank Darabont', 'Francis Ford Coppola', 'Christopher Nolan', 'Francis Ford Coppola', 'Sidney Lumet', 'Peter Jackson', 'Quentin Tarantino', 'Steven Spielberg', 'Christopher Nolan', 'David Fincher', 'Peter Jackson', 'Robert Zemeckis', 'Sergio Leone', 'Peter Jackson', 'Lana Wachowski', 'Martin Scorsese', 'Irvin Kershner', 'Milos Forman', 'Bong Joon Ho', 'Christopher Nolan', 'Fernando Meirelles', 'Hayao Miyazaki', 'Steven Spielberg', 'Frank Darabont', 'Roberto Benigni', 'David Fincher', 'Jonathan Demme', 'George Lucas', 'Masaki Kobayashi', 'Akira Kurosawa', 'Frank Capra', 'Thomas Kail', 'Damien Chazelle', 'Olivier Nakache', 'Christopher Nolan', 'Martin Scorsese', 'Roman Polanski', 'Ridley Scott', 'Tony Kaye', 'Bryan Singer', 'Luc Besson', 'Roger Allers', 'James Cameron', 'Giuseppe Tornatore', 'Isao Takahata', 'Robert Zemeckis', 'Sergio Leone', 'Alfred Hitchcock', 'Michael Curtiz', 'Charles Chaplin', 'Charles Chaplin', 'Nadine Labaki', 'Todd Phillips', 'Makoto Shinkai', 'Nitesh Tiwari', 'Bob Persichetti', 'Anthony Russo', 'Anthony Russo', 'Lee Unkrich', 'Quentin Tarantino', 'Christopher Nolan', 'Rajkumar Hirani', 'Aamir Khan', 'Andrew Stanton', 'Florian Henckel von Donnersmarck', 'Chan-wook Park', 'Christopher Nolan', 'Hayao Miyazaki', 'Sergio Leone', 'Steven Spielberg', 'Stanley Kubrick', 'Francis Ford Coppola', 'Ridley Scott', 'Akira Kurosawa', 'Stanley Kubrick', 'Billy Wilder', 'Stanley Kubrick', 'Alfred Hitchcock', 'Billy Wilder', 'Charles Chaplin', 'Sam Mendes', 'Thomas Vinterberg', 'Asghar Farhadi', 'Denis Villeneuve', 'Florian Zeller', 'Çagan Irmak', 'Quentin Tarantino', 'Michel Gondry', 'Jean-Pierre Jeunet', 'Guy Ritchie', 'Darren Aronofsky', 'Sam Mendes', 'Gus Van Sant', 'Majid Majidi', 'John Lasseter', 'Mel Gibson', 'Quentin Tarantino', 'Stanley Kubrick', 'Elem Klimov', 'James Cameron', 'Milos Forman', 'Brian De Palma', 'Richard Marquand', 'Wolfgang Petersen', 'George Roy Hill', 'Stanley Kubrick', 'Hrishikesh Mukherjee', 'Stanley Kubrick', 'David Lean', 'Billy Wilder', 'Alfred Hitchcock', 'Alfred Hitchcock', 'Stanley Donen', 'Akira Kurosawa', 'Vittorio De Sica', 'Billy Wilder', 'Orson Welles', 'Fritz Lang', 'Fritz Lang', 'Charles Chaplin', 'Sriram Raghavan', 'Peter Farrelly', 'Sergio Pablos', 'Nishikant Kamat', 'Zaza Urushadze', 'Anurag Kashyap', 'Juan José Campanella', \"Gavin O'Connor\", 'Martin Scorsese', 'Pete Docter', 'Mehmet Ada Öztekin', 'Martin Scorsese', 'Paul Thomas Anderson', 'Guillermo del Toro', 'Lee Unkrich', 'James McTeigue', 'Rakeysh Omprakash Mehra', 'Christopher Nolan', 'Oliver Hirschbiegel', 'Hayao Miyazaki', 'Ron Howard', 'Guy Ritchie', 'Curtis Hanson', 'Yavuz Turgul', 'Michael Mann', 'Martin Scorsese', 'Clint Eastwood', 'Steven Spielberg', 'Emir Kusturica', 'Hayao Miyazaki', 'John McTiernan', 'Akira Kurosawa', 'Martin Scorsese', 'Andrei Tarkovsky', 'Ingmar Bergman', 'Martin Scorsese', 'Terry Gilliam', 'Sergio Leone', 'John Sturges', 'Robert Mulligan', 'Akira Kurosawa', 'Stanley Kramer', 'Billy Wilder', 'Ingmar Bergman', 'Ingmar Bergman', 'Alfred Hitchcock', 'Yasujirô Ozu', 'Akira Kurosawa', 'Joseph L. Mankiewicz', 'John Huston', 'Ernst Lubitsch', 'Charles Chaplin', 'Buster Keaton', 'Céline Sciamma', 'Naoko Yamada', 'Martin McDonagh', 'Chan-wook Park', 'James Mangold', 'Lenny Abrahamson', 'Damián Szifron', 'Pete Docter', 'Wes Anderson', 'David Fincher', 'Mel Gibson', 'Pete Docter', 'Steve McQueen', 'Ron Howard', 'James Mangold', 'Tom McCarthy', 'Denis Villeneuve', 'George Miller', 'Clint Eastwood', 'David Yates', 'Lasse Hallström', 'Adam Elliot', 'Dean DeBlois', 'Sean Penn', 'Ethan Coen', 'Clint Eastwood', 'Terry George', 'Richard Linklater', 'Bong Joon Ho', 'Quentin Tarantino', 'Andrew Stanton', 'Steven Spielberg', 'Alejandro G. Iñárritu', 'Pete Docter', 'Hideaki Anno', 'M. Night Shyamalan', 'Peter Weir', 'Joel Coen', 'Kar-Wai Wong', 'Danny Boyle', 'Joel Coen', 'Mathieu Kassovitz', 'Richard Linklater', 'Krzysztof Kieslowski', 'Steven Spielberg', 'Jim Sheridan', 'Peter Weir', 'Rob Reiner', 'Oliver Stone', 'Wim Wenders', 'Hayao Miyazaki', 'John Carpenter', 'Ridley Scott', 'David Lynch', 'Terry Jones', 'Michael Cimino', 'John G. Avildsen', 'Sidney Lumet', 'Stanley Kubrick', 'Roman Polanski', 'Stuart Rosenberg', 'Ingmar Bergman', 'Andrei Tarkovsky', 'Gillo Pontecorvo', 'François Truffaut', 'William Wyler', 'David Lean', 'Jules Dassin', 'Elia Kazan', 'Henri-Georges Clouzot', 'Carol Reed', 'Alfred Hitchcock', 'Frank Capra', 'Victor Fleming', 'Frank Capra', 'Carl Theodor Dreyer', 'Clyde Bruckman'], 'vote': ['2384320', '1652445', '2347792', '1149799', '703980', '1667945', '1857060', '1232799', '2106052', '1886300', '1688425', '1844654', '698598', '1508316', '1705129', '1039426', '1175761', '931138', '598805', '1550642', '707918', '667676', '1258377', '1169702', '634870', '1472143', '1294206', '1247798', '44605', '320586', '411561', '63349', '735349', '775915', '1211549', '1209422', '745839', '1362262', '1047307', '1005004', '1053047', '958560', '1008319', '235601', '241817', '1077901', '307162', '613873', '529332', '222037', '170689', '67915', '989510', '206501', '161586', '396044', '864911', '871070', '402308', '1384266', '1540543', '351846', '173328', '1016066', '364457', '525089', '1141815', '351216', '317252', '895173', '914448', '615805', '800590', '36327', '456382', '111483', '181471', '450766', '204869', '206363', '456085', '290696', '224415', '154614', '48712', '80640', '1293135', '924683', '712212', '792464', '778232', '1082601', '876944', '67115', '902011', '970919', '933087', '684603', '62147', '661284', '374097', '755422', '963661', '235069', '244798', '768142', '31404', '612873', '272024', '167252', '303224', '370333', '222521', '70305', '149516', '145876', '411169', '145970', '162449', '115914', '75328', '400686', '111464', '72994', '42272', '84319', '196453', '441417', '1155136', '950590', '38442', '1218261', '527544', '626326', '767855', '1046018', '113589', '1328770', '335432', '343384', '862149', '542706', '539232', '65465', '588109', '474640', '381419', '700576', '28028', '299026', '802694', '115003', '326536', '119888', '28553', '738695', '506537', '236362', '227882', '297082', '113369', '70912', '247486', '98481', '168521', '161146', '54753', '155349', '122354', '115951', '31317', '102973', '43430', '70084', '53113', '446975', '119500', '662877', '380235', '181296', '232373', '723934', '879159', '448169', '630607', '650762', '440679', '310041', '429279', '614615', '898867', '728601', '779458', '258625', '166670', '676807', '582105', '873705', '644311', '337869', '240859', '146378', '1015976', '962337', '852492', '226597', '828108', '41236', '921887', '958755', '743404', '129107', '642222', '627224', '154209', '277971', '92756', '881896', '160744', '435409', '368507', '386456', '94461', '154471', '377350', '703571', '223644', '372467', '316007', '526789', '147124', '152928', '299474', '164394', '106057', '48345', '54315', '107618', '222538', '206271', '30283', '144259', '55729', '161101', '126051', '108447', '293964', '95740', '48975', '82563'], 'recette': ['28,341,469', '134,966,411', '534,858,444', '57,300,000', '4,360,000', '377,845,905', '107,928,762', '96,898,818', '292,576,195', '37,030,102', '315,544,750', '330,252,182', '6,100,000', '342,551,365', '171,479,930', '46,836,394', '290,475,067', '112,000,000', '53,367,844', '188,020,017', '7,563,397', '10,055,859', '216,540,909', '136,801,374', '57,598,247', '100,125,643', '130,742,922', '322,740,140', None, '269,061', None, None, '13,092,000', '13,182,281', '53,089,891', '132,384,315', '32,572,577', '187,705,427', '6,719,864', '23,341,568', '19,501,238', '422,783,777', '204,843,350', '11,990,401', None, '210,609,762', '5,321,508', '32,000,000', '1,024,560', '163,245', '19,181', '1,661,096', '335,451,311', '5,017,246', '12,391,761', '190,241,310', '858,373,000', '678,815,482', '209,726,015', '162,805,434', '448,139,099', '6,532,908', '1,223,869', '223,808,164', '11,286,112', '707,481', '25,544,867', '2,375,308', '5,321,508', '248,159,971', '44,017,374', '83,471,511', '78,900,000', None, '275,902', '8,175,000', None, '36,764,313', None, '288,475', '159,227,644', '687,185', '7,098,492', '6,857,096', None, None, '120,540,719', '34,400,301', '33,225,499', '30,328,156', '3,635,482', '130,096,601', '138,433,435', '933,933', '191,796,233', '75,600,000', '2,832,029', '46,357,676', None, '85,160,248', '51,973,029', '45,598,982', '309,125,409', '11,487,676', '159,600,000', '6,207,725', None, '56,954,992', '44,824,144', '18,600,000', '13,275,000', '3,200,000', '8,819,028', '55,240', '332,930', '5,720,000', '1,585,634', '28,877', '1,236,166', '5,450,000', '1,373,943', '85,080,171', None, '739,478', '144,501', None, '6,391,436', '13,657,115', '128,012,934', '293,004,164', None, '116,900,694', '40,222,514', '37,634,615', '415,004,880', '70,511,035', '2,197,331', '206,852,432', '5,509,040', '4,711,096', '170,742,341', '3,897,569', '64,616,940', None, '67,436,818', '42,438,300', '101,157,447', '197,171,806', '280,015', '1,105,564', '83,008,852', '4,135,750', '23,383,987', '234,723', None, '28,262,574', '1,229,197', '15,000,000', '12,100,000', None, None, None, '25,000,000', None, None, '12,562', None, '96,568', '10,177', '5,014,000', None, '5,450,000', '977,375', '3,759,854', None, '54,513,740', '2,006,788', '226,277,068', '14,677,674', '3,107,072', None, '59,100,318', '167,767,189', '67,209,615', '356,461,711', '56,671,993', '26,947,624', '117,624,028', '45,055,776', '61,002,302', '154,058,340', '148,095,302', '381,011,219', None, None, '217,581,231', '18,354,356', '74,283,625', '100,492,203', '23,530,892', '5,820,649', '14,131', '70,099,045', '380,843,261', '164,615,351', '5,383,834', '289,916,256', None, '293,506,292', '125,618,201', '17,498,804', '2,734,044', '16,501,785', '24,611,975', '309,811', '5,535,405', '4,043,686', '402,453,882', '25,010,410', '95,860,116', '52,287,414', '138,530,565', '2,181,987', '495,770', '13,782,838', '32,868,943', None, '20,045,115', '48,979,328', '117,235,247', None, None, '8,486,653', '16,217,773', None, '102,021', '55,908', None, '74,700,000', '44,908,000', '57,226', '9,600,000', None, '449,191', '4,360,000', '9,600,000', '198,676,459', '4,360,000', '21,877', '1,033,895']}\n"
     ]
    }
   ],
   "source": [
    "from scrapping_j import top_250\n",
    "import pandas as pd\n",
    "import numpy as np \n",
    "import matplotlib.pyplot as plt\n",
    "import seaborn as sns"
   ]
  },
  {
   "cell_type": "code",
   "execution_count": 2,
   "metadata": {},
   "outputs": [
    {
     "output_type": "execute_result",
     "data": {
      "text/plain": [
       "                                   title  date note              director  \\\n",
       "0                             Les Évadés  1994  9.3        Frank Darabont   \n",
       "1                             Le parrain  1972  9.2  Francis Ford Coppola   \n",
       "2    The Dark Knight : Le Chevalier noir  2008  9.0     Christopher Nolan   \n",
       "3                Le parrain, 2ème partie  1974  9.0  Francis Ford Coppola   \n",
       "4                    12 Hommes en colère  1957  9.0          Sidney Lumet   \n",
       "..                                   ...   ...  ...                   ...   \n",
       "245                   Mr. Smith au sénat  1939  8.1           Frank Capra   \n",
       "246            Autant en emporte le vent  1939  8.1        Victor Fleming   \n",
       "247                     New York - Miami  1934  8.1           Frank Capra   \n",
       "248           La passion de Jeanne d'Arc  1928  8.1   Carl Theodor Dreyer   \n",
       "249             Le mécano de la Générale  1926  8.1        Clyde Bruckman   \n",
       "\n",
       "        vote      recette  \n",
       "0    2384320   28,341,469  \n",
       "1    1652445  134,966,411  \n",
       "2    2347792  534,858,444  \n",
       "3    1149799   57,300,000  \n",
       "4     703980    4,360,000  \n",
       "..       ...          ...  \n",
       "245   108447    9,600,000  \n",
       "246   293964  198,676,459  \n",
       "247    95740    4,360,000  \n",
       "248    48975       21,877  \n",
       "249    82563    1,033,895  \n",
       "\n",
       "[250 rows x 6 columns]"
      ],
      "text/html": "<div>\n<style scoped>\n    .dataframe tbody tr th:only-of-type {\n        vertical-align: middle;\n    }\n\n    .dataframe tbody tr th {\n        vertical-align: top;\n    }\n\n    .dataframe thead th {\n        text-align: right;\n    }\n</style>\n<table border=\"1\" class=\"dataframe\">\n  <thead>\n    <tr style=\"text-align: right;\">\n      <th></th>\n      <th>title</th>\n      <th>date</th>\n      <th>note</th>\n      <th>director</th>\n      <th>vote</th>\n      <th>recette</th>\n    </tr>\n  </thead>\n  <tbody>\n    <tr>\n      <th>0</th>\n      <td>Les Évadés</td>\n      <td>1994</td>\n      <td>9.3</td>\n      <td>Frank Darabont</td>\n      <td>2384320</td>\n      <td>28,341,469</td>\n    </tr>\n    <tr>\n      <th>1</th>\n      <td>Le parrain</td>\n      <td>1972</td>\n      <td>9.2</td>\n      <td>Francis Ford Coppola</td>\n      <td>1652445</td>\n      <td>134,966,411</td>\n    </tr>\n    <tr>\n      <th>2</th>\n      <td>The Dark Knight : Le Chevalier noir</td>\n      <td>2008</td>\n      <td>9.0</td>\n      <td>Christopher Nolan</td>\n      <td>2347792</td>\n      <td>534,858,444</td>\n    </tr>\n    <tr>\n      <th>3</th>\n      <td>Le parrain, 2ème partie</td>\n      <td>1974</td>\n      <td>9.0</td>\n      <td>Francis Ford Coppola</td>\n      <td>1149799</td>\n      <td>57,300,000</td>\n    </tr>\n    <tr>\n      <th>4</th>\n      <td>12 Hommes en colère</td>\n      <td>1957</td>\n      <td>9.0</td>\n      <td>Sidney Lumet</td>\n      <td>703980</td>\n      <td>4,360,000</td>\n    </tr>\n    <tr>\n      <th>...</th>\n      <td>...</td>\n      <td>...</td>\n      <td>...</td>\n      <td>...</td>\n      <td>...</td>\n      <td>...</td>\n    </tr>\n    <tr>\n      <th>245</th>\n      <td>Mr. Smith au sénat</td>\n      <td>1939</td>\n      <td>8.1</td>\n      <td>Frank Capra</td>\n      <td>108447</td>\n      <td>9,600,000</td>\n    </tr>\n    <tr>\n      <th>246</th>\n      <td>Autant en emporte le vent</td>\n      <td>1939</td>\n      <td>8.1</td>\n      <td>Victor Fleming</td>\n      <td>293964</td>\n      <td>198,676,459</td>\n    </tr>\n    <tr>\n      <th>247</th>\n      <td>New York - Miami</td>\n      <td>1934</td>\n      <td>8.1</td>\n      <td>Frank Capra</td>\n      <td>95740</td>\n      <td>4,360,000</td>\n    </tr>\n    <tr>\n      <th>248</th>\n      <td>La passion de Jeanne d'Arc</td>\n      <td>1928</td>\n      <td>8.1</td>\n      <td>Carl Theodor Dreyer</td>\n      <td>48975</td>\n      <td>21,877</td>\n    </tr>\n    <tr>\n      <th>249</th>\n      <td>Le mécano de la Générale</td>\n      <td>1926</td>\n      <td>8.1</td>\n      <td>Clyde Bruckman</td>\n      <td>82563</td>\n      <td>1,033,895</td>\n    </tr>\n  </tbody>\n</table>\n<p>250 rows × 6 columns</p>\n</div>"
     },
     "metadata": {},
     "execution_count": 2
    }
   ],
   "source": [
    "df = pd.DataFrame.from_dict(top_250)\n",
    "df"
   ]
  },
  {
   "cell_type": "code",
   "execution_count": 5,
   "metadata": {},
   "outputs": [
    {
     "output_type": "stream",
     "name": "stdout",
     "text": [
      "<class 'pandas.core.frame.DataFrame'>\nRangeIndex: 250 entries, 0 to 249\nData columns (total 6 columns):\n #   Column    Non-Null Count  Dtype \n---  ------    --------------  ----- \n 0   title     250 non-null    object\n 1   date      250 non-null    object\n 2   note      250 non-null    object\n 3   director  250 non-null    object\n 4   vote      250 non-null    object\n 5   recette   216 non-null    object\ndtypes: object(6)\nmemory usage: 11.8+ KB\n"
     ]
    }
   ],
   "source": [
    "df.info()"
   ]
  },
  {
   "cell_type": "code",
   "execution_count": 8,
   "metadata": {},
   "outputs": [
    {
     "output_type": "execute_result",
     "data": {
      "text/plain": [
       "title        0\n",
       "date         0\n",
       "note         0\n",
       "director     0\n",
       "vote         0\n",
       "recette     34\n",
       "dtype: int64"
      ]
     },
     "metadata": {},
     "execution_count": 8
    }
   ],
   "source": [
    "df.isnull().sum()"
   ]
  },
  {
   "cell_type": "code",
   "execution_count": null,
   "metadata": {},
   "outputs": [],
   "source": []
  }
 ]
}